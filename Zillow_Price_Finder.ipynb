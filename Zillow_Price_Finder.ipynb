{
 "cells": [
  {
   "cell_type": "code",
   "execution_count": 1,
   "metadata": {},
   "outputs": [
    {
     "name": "stdout",
     "output_type": "stream",
     "text": [
      "https://www.zillow.com/b/747-geary-street-oakland-ca-CYzGVt/\n"
     ]
    }
   ],
   "source": [
    "from bs4 import BeautifulSoup\n",
    "import requests\n",
    "\n",
    "response = requests.get(url=\"https://appbrewery.github.io/Zillow-Clone/\")\n",
    "\n",
    "soup = BeautifulSoup(response.text, \"html.parser\")\n",
    "\n",
    "data = soup.find_all(name=\"span\", class_=\"PropertyCardWrapper__StyledPriceLine\")\n",
    "price_list = [price.text.strip(\"+ 1bd +/mo\") for price in data]\n",
    "\n",
    "address = soup.find_all(name=\"address\")\n",
    "\n",
    "addresses = [address.text.strip(\" \\n\") for address in address]\n",
    "\n",
    "links = soup.find_all(name=\"a\", class_=\"StyledPropertyCardDataArea-anchor\")\n",
    "\n",
    "all_links = [links.get(\"href\") for links in links]\n",
    "\n",
    "print(all_links[0])\n",
    "\n"
   ]
  },
  {
   "cell_type": "code",
   "execution_count": 3,
   "metadata": {},
   "outputs": [
    {
     "name": "stdout",
     "output_type": "stream",
     "text": [
      "Requirement already satisfied: selenium in ./Python_Projects/lib/python3.13/site-packages (4.28.1)\n",
      "Requirement already satisfied: urllib3<3,>=1.26 in ./Python_Projects/lib/python3.13/site-packages (from urllib3[socks]<3,>=1.26->selenium) (2.3.0)\n",
      "Requirement already satisfied: trio~=0.17 in ./Python_Projects/lib/python3.13/site-packages (from selenium) (0.28.0)\n",
      "Requirement already satisfied: trio-websocket~=0.9 in ./Python_Projects/lib/python3.13/site-packages (from selenium) (0.11.1)\n",
      "Requirement already satisfied: certifi>=2021.10.8 in ./Python_Projects/lib/python3.13/site-packages (from selenium) (2024.12.14)\n",
      "Requirement already satisfied: typing_extensions~=4.9 in ./Python_Projects/lib/python3.13/site-packages (from selenium) (4.12.2)\n",
      "Requirement already satisfied: websocket-client~=1.8 in ./Python_Projects/lib/python3.13/site-packages (from selenium) (1.8.0)\n",
      "Requirement already satisfied: attrs>=23.2.0 in ./Python_Projects/lib/python3.13/site-packages (from trio~=0.17->selenium) (24.3.0)\n",
      "Requirement already satisfied: sortedcontainers in ./Python_Projects/lib/python3.13/site-packages (from trio~=0.17->selenium) (2.4.0)\n",
      "Requirement already satisfied: idna in ./Python_Projects/lib/python3.13/site-packages (from trio~=0.17->selenium) (3.10)\n",
      "Requirement already satisfied: outcome in ./Python_Projects/lib/python3.13/site-packages (from trio~=0.17->selenium) (1.3.0.post0)\n",
      "Requirement already satisfied: sniffio>=1.3.0 in ./Python_Projects/lib/python3.13/site-packages (from trio~=0.17->selenium) (1.3.1)\n",
      "Requirement already satisfied: wsproto>=0.14 in ./Python_Projects/lib/python3.13/site-packages (from trio-websocket~=0.9->selenium) (1.2.0)\n",
      "Requirement already satisfied: pysocks!=1.5.7,<2.0,>=1.5.6 in ./Python_Projects/lib/python3.13/site-packages (from urllib3[socks]<3,>=1.26->selenium) (1.7.1)\n",
      "Requirement already satisfied: h11<1,>=0.9.0 in ./Python_Projects/lib/python3.13/site-packages (from wsproto>=0.14->trio-websocket~=0.9->selenium) (0.14.0)\n"
     ]
    }
   ],
   "source": [
    "!pip install selenium"
   ]
  },
  {
   "cell_type": "code",
   "execution_count": 46,
   "metadata": {},
   "outputs": [],
   "source": [
    "from selenium import webdriver\n",
    "from selenium.webdriver.common.by import By\n",
    "from selenium.webdriver.common.keys import Keys\n",
    "from selenium.webdriver.support.ui import WebDriverWait\n",
    "from selenium.webdriver.support import expected_conditions as EC\n",
    "\n",
    "# Setup Chrome options\n",
    "\n",
    "for i in range(10):\n",
    "    option = webdriver.ChromeOptions()\n",
    "    option.add_experimental_option(\"detach\", True)\n",
    "\n",
    "    # Initialize the WebDriver\n",
    "    driver = webdriver.Chrome(options=option)\n",
    "\n",
    "    # Open the form\n",
    "    driver.get(\"https://docs.google.com/forms/d/e/1FAIpQLSexB9MmFrDkX8xzO070WabchXEQZD8ZKqIr517OlRLoDy5jLQ/viewform?usp=header\")\n",
    "\n",
    "    # Wait setup for 10 seconds\n",
    "    wait = WebDriverWait(driver, 10)\n",
    "\n",
    "    # Wait for the first input element and send keys\n",
    "    first_input = WebDriverWait(driver, 10).until(\n",
    "        EC.element_to_be_clickable((By.XPATH, '//*[@id=\"mG61Hd\"]/div[2]/div/div[2]/div[1]/div/div/div[2]/div/div[1]/div/div[1]/input'))\n",
    "    )\n",
    "    first_input.send_keys(f\"{all_links[i]}\")\n",
    "\n",
    "    # Wait for the second input element and send keys\n",
    "    second_input = wait.until(EC.visibility_of_element_located((By.XPATH, '//*[@id=\"mG61Hd\"]/div[2]/div/div[2]/div[2]/div/div/div[2]/div/div[1]/div/div[1]/input')))\n",
    "    second_input.send_keys(f\"{addresses[i]}\")\n",
    "\n",
    "    # Wait for the third input element and send keys\n",
    "    third_input = wait.until(EC.visibility_of_element_located((By.XPATH, '/html/body/div/div[2]/form/div[2]/div/div[2]/div[3]/div/div/div[2]/div/div[1]/div/div[1]/input')))\n",
    "    third_input.send_keys(f\"{price_list[i]}\")\n",
    "\n",
    "    submit = wait.until(EC.visibility_of_element_located((By.XPATH, '//*[@id=\"mG61Hd\"]/div[2]/div/div[3]/div[1]/div[1]/div/span/span')))\n",
    "    submit.click()\n",
    "\n",
    "    driver.quit()\n",
    "\n"
   ]
  }
 ],
 "metadata": {
  "kernelspec": {
   "display_name": "Python_Projects",
   "language": "python",
   "name": "python3"
  },
  "language_info": {
   "codemirror_mode": {
    "name": "ipython",
    "version": 3
   },
   "file_extension": ".py",
   "mimetype": "text/x-python",
   "name": "python",
   "nbconvert_exporter": "python",
   "pygments_lexer": "ipython3",
   "version": "3.13.1"
  }
 },
 "nbformat": 4,
 "nbformat_minor": 2
}
